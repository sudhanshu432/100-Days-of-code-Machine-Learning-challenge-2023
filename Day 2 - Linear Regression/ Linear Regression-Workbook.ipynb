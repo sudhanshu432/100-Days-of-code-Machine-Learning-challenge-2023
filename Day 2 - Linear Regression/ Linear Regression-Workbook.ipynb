{
 "cells": [
  {
   "cell_type": "markdown",
   "id": "f282f3f5",
   "metadata": {},
   "source": [
    "# V-1 Linear Regression Intuition\n"
   ]
  },
  {
   "cell_type": "code",
   "execution_count": 1,
   "id": "ebb46144",
   "metadata": {},
   "outputs": [],
   "source": [
    "#\"please refer to notes\""
   ]
  },
  {
   "cell_type": "markdown",
   "id": "674d6e1e",
   "metadata": {},
   "source": [
    "# V-2 Analysis of LR using dummy data"
   ]
  },
  {
   "cell_type": "code",
   "execution_count": 36,
   "id": "9d5ed653",
   "metadata": {},
   "outputs": [],
   "source": [
    "# Import libraries\n",
    "import numpy as np"
   ]
  },
  {
   "cell_type": "code",
   "execution_count": 37,
   "id": "7ce379c8",
   "metadata": {},
   "outputs": [],
   "source": [
    "# Load data\n",
    "data = np.loadtxt(\"data.csv\", delimiter = \",\")"
   ]
  },
  {
   "cell_type": "code",
   "execution_count": 38,
   "id": "1163b909",
   "metadata": {},
   "outputs": [
    {
     "data": {
      "text/plain": [
       "(100, 2)"
      ]
     },
     "execution_count": 38,
     "metadata": {},
     "output_type": "execute_result"
    }
   ],
   "source": [
    "# Shape of data\n",
    "data.shape"
   ]
  },
  {
   "cell_type": "markdown",
   "id": "3aceea84",
   "metadata": {},
   "source": [
    "##### Split data into X and Y"
   ]
  },
  {
   "cell_type": "code",
   "execution_count": 39,
   "id": "9f3ef723",
   "metadata": {},
   "outputs": [],
   "source": [
    "x = data[:,0].reshape(-1,1)"
   ]
  },
  {
   "cell_type": "code",
   "execution_count": 40,
   "id": "b631ea75",
   "metadata": {},
   "outputs": [
    {
     "data": {
      "text/plain": [
       "(100, 1)"
      ]
     },
     "execution_count": 40,
     "metadata": {},
     "output_type": "execute_result"
    }
   ],
   "source": [
    "x.shape"
   ]
  },
  {
   "cell_type": "code",
   "execution_count": 41,
   "id": "006f8a9a",
   "metadata": {},
   "outputs": [],
   "source": [
    "y = data[:,1].reshape(-1,1)"
   ]
  },
  {
   "cell_type": "code",
   "execution_count": 42,
   "id": "033c0e81",
   "metadata": {},
   "outputs": [
    {
     "data": {
      "text/plain": [
       "(100, 1)"
      ]
     },
     "execution_count": 42,
     "metadata": {},
     "output_type": "execute_result"
    }
   ],
   "source": [
    "y.shape"
   ]
  },
  {
   "cell_type": "code",
   "execution_count": 43,
   "id": "dab2d6c8",
   "metadata": {},
   "outputs": [],
   "source": [
    "from sklearn import model_selection"
   ]
  },
  {
   "cell_type": "code",
   "execution_count": 44,
   "id": "cbe6b415",
   "metadata": {},
   "outputs": [],
   "source": [
    "x_train, x_test, y_train, y_test = model_selection.train_test_split(x,y)"
   ]
  },
  {
   "cell_type": "code",
   "execution_count": 45,
   "id": "9e6158ec",
   "metadata": {},
   "outputs": [],
   "source": [
    "from sklearn.linear_model import LinearRegression\n",
    "alg1 = LinearRegression()\n"
   ]
  },
  {
   "cell_type": "code",
   "execution_count": 46,
   "id": "df900d67",
   "metadata": {},
   "outputs": [
    {
     "data": {
      "text/plain": [
       "LinearRegression()"
      ]
     },
     "execution_count": 46,
     "metadata": {},
     "output_type": "execute_result"
    }
   ],
   "source": [
    "alg1.fit(x_train, y_train)"
   ]
  },
  {
   "cell_type": "code",
   "execution_count": 47,
   "id": "0975db1d",
   "metadata": {},
   "outputs": [],
   "source": [
    "#  y = mx + c"
   ]
  },
  {
   "cell_type": "code",
   "execution_count": 48,
   "id": "4b5daeea",
   "metadata": {},
   "outputs": [
    {
     "data": {
      "text/plain": [
       "array([[1.22089281]])"
      ]
     },
     "execution_count": 48,
     "metadata": {},
     "output_type": "execute_result"
    }
   ],
   "source": [
    "alg1.coef_ #This will give m"
   ]
  },
  {
   "cell_type": "code",
   "execution_count": 49,
   "id": "fc68528d",
   "metadata": {},
   "outputs": [
    {
     "data": {
      "text/plain": [
       "array([11.4706898])"
      ]
     },
     "execution_count": 49,
     "metadata": {},
     "output_type": "execute_result"
    }
   ],
   "source": [
    "alg1.intercept_ #This will give c"
   ]
  },
  {
   "cell_type": "code",
   "execution_count": 50,
   "id": "6d96a775",
   "metadata": {},
   "outputs": [
    {
     "data": {
      "image/png": "[encoded data removed]",
      "text/plain": [
       "<Figure size 432x288 with 1 Axes>"
      ]
     },
     "metadata": {
      "needs_background": "light"
     },
     "output_type": "display_data"
    }
   ],
   "source": [
    "# Lets plot the graph for train data\n",
    "import matplotlib.pyplot as plt\n",
    "m = alg1.coef_[0]\n",
    "c = alg1.intercept_\n",
    "\n",
    "x_line = np.arange(30,70,0.1)\n",
    "y_line = m * x_line + c\n",
    "plt.plot(x_line, y_line,\"r\")\n",
    "\n",
    "#train_id = x_train.reshape(75)\n",
    "\n",
    "plt.scatter(x_train, y_train)\n",
    "plt.show()"
   ]
  },
  {
   "cell_type": "code",
   "execution_count": 51,
   "id": "0f2c9053",
   "metadata": {},
   "outputs": [
    {
     "data": {
      "image/png": "[encoded data removed]",
      "text/plain": [
       "<Figure size 432x288 with 1 Axes>"
      ]
     },
     "metadata": {
      "needs_background": "light"
     },
     "output_type": "display_data"
    }
   ],
   "source": [
    "# Lets plot the graph for test data\n",
    "import matplotlib.pyplot as plt\n",
    "m = alg1.coef_[0]\n",
    "c = alg1.intercept_\n",
    "\n",
    "x_line = np.arange(30,70,0.1)\n",
    "y_line = m * x_line + c\n",
    "plt.plot(x_line, y_line,\"r\")\n",
    "\n",
    "#train_id = x_test.reshape(25)\n",
    "\n",
    "plt.scatter(x_test, y_test)\n",
    "plt.show()\n"
   ]
  },
  {
   "cell_type": "code",
   "execution_count": 52,
   "id": "7504a4a6",
   "metadata": {},
   "outputs": [
    {
     "name": "stdout",
     "output_type": "stream",
     "text": [
      "(75, 1)\n",
      "(25, 1)\n",
      "(75, 1)\n",
      "(25, 1)\n"
     ]
    }
   ],
   "source": [
    "print(x_train.shape)\n",
    "print(x_test.shape)\n",
    "print(y_train.shape)\n",
    "print(y_test.shape)"
   ]
  },
  {
   "cell_type": "markdown",
   "id": "757c48dd",
   "metadata": {},
   "source": [
    "# V-3 Coefficient of Determination"
   ]
  },
  {
   "cell_type": "code",
   "execution_count": 58,
   "id": "1c269408",
   "metadata": {},
   "outputs": [
    {
     "data": {
      "text/plain": [
       "(0.627594216157477, 0.5500228873966106)"
      ]
     },
     "execution_count": 58,
     "metadata": {},
     "output_type": "execute_result"
    }
   ],
   "source": [
    "score_test = alg1.score(x_test, y_test)\n",
    "score_training = alg1.score(x_train, y_train)\n",
    "score_test, score_training"
   ]
  },
  {
   "cell_type": "code",
   "execution_count": null,
   "id": "a958064b",
   "metadata": {},
   "outputs": [],
   "source": [
    "#Score is calculating using coefficient of determination\n",
    "#Score shows how much we our pregiction is correct Score is between 0 to 1"
   ]
  },
  {
   "cell_type": "markdown",
   "id": "d50e8b2f",
   "metadata": {},
   "source": [
    "## Question 1: Find coefficient and intercept\n",
    "Send Feedback\n",
    "For the given dataset \"FuelEconomy.csv\"\n",
    "Create a Linear Regressor and fit the dataset in this. After that, print the coefficient and intercept.\n",
    "Note:\n",
    " 1. Inside the function \"train_test_split\", use the \"random_state = 42\".\n",
    " 2. Split the dataset in the ratio of 70:30 into the training and testing datasets.\n",
    "To know more about randomstate please read the document given regarding randomstate.\n",
    "Output\n",
    "Print the coefficient and intercept in separate lines rounded off to 2 decimal places."
   ]
  },
  {
   "cell_type": "code",
   "execution_count": 19,
   "id": "0bdcfeb3",
   "metadata": {},
   "outputs": [],
   "source": [
    "import numpy as np"
   ]
  },
  {
   "cell_type": "code",
   "execution_count": 20,
   "id": "e4560e3f",
   "metadata": {},
   "outputs": [],
   "source": [
    "data = np.loadtxt('FuelEconomy.csv', delimiter = \",\")"
   ]
  },
  {
   "cell_type": "code",
   "execution_count": 21,
   "id": "b6832a75",
   "metadata": {},
   "outputs": [],
   "source": [
    "x = data[:,0].reshape(-1,1)\n",
    "y = data[:,1].reshape(-1,1)"
   ]
  },
  {
   "cell_type": "code",
   "execution_count": 22,
   "id": "8ddae882",
   "metadata": {},
   "outputs": [
    {
     "data": {
      "text/plain": [
       "(100, 1)"
      ]
     },
     "execution_count": 22,
     "metadata": {},
     "output_type": "execute_result"
    }
   ],
   "source": [
    "x.shape"
   ]
  },
  {
   "cell_type": "code",
   "execution_count": 23,
   "id": "7f85d55e",
   "metadata": {},
   "outputs": [
    {
     "data": {
      "text/plain": [
       "(100, 1)"
      ]
     },
     "execution_count": 23,
     "metadata": {},
     "output_type": "execute_result"
    }
   ],
   "source": [
    "y.shape"
   ]
  },
  {
   "cell_type": "code",
   "execution_count": 24,
   "id": "f4293cbc",
   "metadata": {},
   "outputs": [],
   "source": [
    "from sklearn import model_selection"
   ]
  },
  {
   "cell_type": "code",
   "execution_count": 25,
   "id": "b608885f",
   "metadata": {},
   "outputs": [],
   "source": [
    "x_train, x_test, y_train, y_test = model_selection.train_test_split(x,y,test_size = 0.30)"
   ]
  },
  {
   "cell_type": "code",
   "execution_count": 26,
   "id": "95ba03cf",
   "metadata": {},
   "outputs": [
    {
     "name": "stdout",
     "output_type": "stream",
     "text": [
      "(70, 1)\n",
      "(30, 1)\n",
      "(70, 1)\n",
      "(30, 1)\n"
     ]
    }
   ],
   "source": [
    "print(x_train.shape)\n",
    "print(x_test.shape)\n",
    "print(y_train.shape)\n",
    "print(y_test.shape)"
   ]
  },
  {
   "cell_type": "code",
   "execution_count": 27,
   "id": "14dca350",
   "metadata": {},
   "outputs": [],
   "source": [
    "from sklearn.linear_model import LinearRegression"
   ]
  },
  {
   "cell_type": "code",
   "execution_count": 28,
   "id": "01fc60a2",
   "metadata": {},
   "outputs": [],
   "source": [
    "alg1 = LinearRegression()"
   ]
  },
  {
   "cell_type": "code",
   "execution_count": 29,
   "id": "174d8177",
   "metadata": {},
   "outputs": [
    {
     "data": {
      "text/plain": [
       "LinearRegression()"
      ]
     },
     "execution_count": 29,
     "metadata": {},
     "output_type": "execute_result"
    }
   ],
   "source": [
    "alg1.fit(x_train, y_train)"
   ]
  },
  {
   "cell_type": "code",
   "execution_count": 30,
   "id": "6422c050",
   "metadata": {},
   "outputs": [
    {
     "data": {
      "text/plain": [
       "array([[-0.07214604]])"
      ]
     },
     "execution_count": 30,
     "metadata": {},
     "output_type": "execute_result"
    }
   ],
   "source": [
    "alg1.coef_"
   ]
  },
  {
   "cell_type": "code",
   "execution_count": 31,
   "id": "e1b37fb2",
   "metadata": {},
   "outputs": [
    {
     "data": {
      "text/plain": [
       "array([38.4732956])"
      ]
     },
     "execution_count": 31,
     "metadata": {},
     "output_type": "execute_result"
    }
   ],
   "source": [
    "alg1.intercept_"
   ]
  },
  {
   "cell_type": "code",
   "execution_count": 32,
   "id": "a1b29a91",
   "metadata": {},
   "outputs": [],
   "source": [
    "coefficient = alg1.coef_[0]\n",
    "intercept = alg1.intercept_"
   ]
  },
  {
   "cell_type": "code",
   "execution_count": 33,
   "id": "d4461c2b",
   "metadata": {},
   "outputs": [
    {
     "data": {
      "text/plain": [
       "-0.07214603750028983"
      ]
     },
     "execution_count": 33,
     "metadata": {},
     "output_type": "execute_result"
    }
   ],
   "source": [
    "coefficient[0]"
   ]
  },
  {
   "cell_type": "code",
   "execution_count": 34,
   "id": "a5778c54",
   "metadata": {},
   "outputs": [
    {
     "data": {
      "text/plain": [
       "38.47329560395477"
      ]
     },
     "execution_count": 34,
     "metadata": {},
     "output_type": "execute_result"
    }
   ],
   "source": [
    "intercept[0]"
   ]
  },
  {
   "cell_type": "markdown",
   "id": "0a2df7b1",
   "metadata": {},
   "source": [
    "### Final - Source code:"
   ]
  },
  {
   "cell_type": "code",
   "execution_count": 35,
   "id": "03ed2f53",
   "metadata": {},
   "outputs": [
    {
     "name": "stdout",
     "output_type": "stream",
     "text": [
      "-0.07\n",
      "38.84\n"
     ]
    }
   ],
   "source": [
    "## Open and read data file as specified in the question\n",
    "## Print the required output in given format\n",
    "import numpy as np\n",
    "\n",
    "data = np.loadtxt(\"FuelEconomy.csv\", delimiter = \",\")\n",
    "\n",
    "x = data[:,0].reshape(-1,1)\n",
    "y = data[:,1].reshape(-1,1)\n",
    "\n",
    "from sklearn import model_selection\n",
    "\n",
    "x_train, x_test , y_train, y_test = model_selection.train_test_split(x,y, test_size = 0.30, random_state=42)\n",
    "\n",
    "from sklearn.linear_model import LinearRegression\n",
    "\n",
    "alg1 = LinearRegression()\n",
    "\n",
    "alg1.fit(x_train, y_train)\n",
    "\n",
    "\n",
    "\n",
    "coefficient = np.round(alg1.coef_[0], 2)\n",
    "intercept = np.round(alg1.intercept_, 2)\n",
    "\n",
    "print(coefficient[0])\n",
    "print(intercept[0])"
   ]
  },
  {
   "cell_type": "markdown",
   "id": "c6242eb6",
   "metadata": {},
   "source": []
  },
  {
   "cell_type": "markdown",
   "id": "27c1ac2f",
   "metadata": {},
   "source": [
    "## Question 2: Find the testing and training score\n",
    "For the given dataset \"FuelEconomy.csv\"\n",
    "\n",
    "Create a Linear Regressor and fit the dataset in this and then print the training and testing score for this regressor.\n",
    "\n",
    "Note: Inside the function \"traintestsplit\" use the \"random_state = 42\".\n",
    "To know more about randomstate please read the document given regarding randomstate.\n",
    "\n",
    "Output\n",
    "\n",
    "Print the testing and training scores in separate lines rounded off to 3 decimal places.\n"
   ]
  },
  {
   "cell_type": "markdown",
   "id": "6a614464",
   "metadata": {},
   "source": [
    "### Source code:"
   ]
  },
  {
   "cell_type": "code",
   "execution_count": 62,
   "id": "7abb2daf",
   "metadata": {},
   "outputs": [
    {
     "name": "stdout",
     "output_type": "stream",
     "text": [
      "0.913\n",
      "0.906\n"
     ]
    }
   ],
   "source": [
    "\n",
    "import numpy as np\n",
    "\n",
    "data = np.loadtxt(\"FuelEconomy.csv\", delimiter = \",\")\n",
    "\n",
    "x = data[:,0].reshape(-1,1)\n",
    "y = data[:,1].reshape(-1,1)\n",
    "\n",
    "from sklearn import model_selection\n",
    "\n",
    "x_train, x_test , y_train, y_test = model_selection.train_test_split(x,y, test_size = 0.30, random_state=42)\n",
    "\n",
    "from sklearn.linear_model import LinearRegression\n",
    "\n",
    "alg1 = LinearRegression()\n",
    "\n",
    "alg1.fit(x_train, y_train)\n",
    "\n",
    "\n",
    "score_test = alg1.score(x_test, y_test)\n",
    "score_train = alg1.score(x_train, y_train)\n",
    "\n",
    "score_test = np.round(score_test, 3)\n",
    "score_train = np.round(score_train, 3)\n",
    "\n",
    "print(score_test)\n",
    "print(score_train)\n"
   ]
  },
  {
   "cell_type": "markdown",
   "id": "033ca67d",
   "metadata": {},
   "source": [
    "# V-4 Cost Function"
   ]
  },
  {
   "cell_type": "code",
   "execution_count": null,
   "id": "523c21be",
   "metadata": {},
   "outputs": [],
   "source": [
    "#\"please refer to notes\""
   ]
  },
  {
   "cell_type": "markdown",
   "id": "d59db2fb",
   "metadata": {},
   "source": [
    "# V-5 Optimal Coefficients\n"
   ]
  },
  {
   "cell_type": "code",
   "execution_count": null,
   "id": "b9a38876",
   "metadata": {},
   "outputs": [],
   "source": [
    "#\"please refer to notes\""
   ]
  },
  {
   "cell_type": "markdown",
   "id": "81f198a7",
   "metadata": {},
   "source": [
    "# V-6 Linear Regression from Scratch"
   ]
  },
  {
   "cell_type": "code",
   "execution_count": null,
   "id": "bafe0736",
   "metadata": {},
   "outputs": [],
   "source": [
    "#\"please refer to notes\""
   ]
  },
  {
   "cell_type": "markdown",
   "id": "29521cc2",
   "metadata": {},
   "source": [
    "## Question 3: Coding Linear Regression from Scratch\n",
    "\n",
    "For the given dataset \"FuelEconomy.csv\"\n",
    "You need to write four functions namely:\n",
    "1. fit(x_train, y_train)\n",
    "2. predict(x, m, c)\n",
    "3. score(y_truth, y_pred)\n",
    "4. cost(x, y, m, c)\n",
    "\n",
    "The output is going to print the training and testing score and the cost of the regressor trained using the fit function."
   ]
  },
  {
   "cell_type": "markdown",
   "id": "3d30dd05",
   "metadata": {},
   "source": [
    "### Source code:"
   ]
  },
  {
   "cell_type": "code",
   "execution_count": 68,
   "id": "3ab5be26",
   "metadata": {},
   "outputs": [
    {
     "name": "stdout",
     "output_type": "stream",
     "text": [
      "0.91\n",
      "0.91\n",
      "2.12\n"
     ]
    }
   ],
   "source": [
    "## Open and read data file as specified in the question\n",
    "## Print the required output in given format\n",
    "import numpy as np\n",
    "from sklearn.model_selection import train_test_split\n",
    "\n",
    "data = np.loadtxt('FuelEconomy.csv', delimiter=',')\n",
    "X = data[:, 0]\n",
    "y = data[:, 1]\n",
    "\n",
    "X_train, X_test, Y_train, Y_test = train_test_split(X, y, test_size = 0.3, random_state=42)\n",
    "\n",
    "###########################\n",
    "##### Start from here #####\n",
    "###########################\n",
    "\n",
    "def fit(x_train, y_train):\n",
    "    ## Write code for fit function\n",
    "    n = len(x_train)\n",
    "    \n",
    "    # Calculate the mean of x and y\n",
    "    mean_x = np.mean(x_train)\n",
    "    mean_y = np.mean(y_train)\n",
    "    \n",
    "    # Calculate the slope (m) and intercept (c) of the regression line\n",
    "    numerator = np.sum((x_train - mean_x) * (y_train - mean_y))\n",
    "    denominator = np.sum((x_train - mean_x) ** 2)\n",
    "    \n",
    "    m = numerator / denominator\n",
    "    c = mean_y - m * mean_x\n",
    "    \n",
    "    return m, c\n",
    "    #pass\n",
    "\n",
    "\n",
    "def predict(x, m, c):\n",
    "    ## Write code for predict function\n",
    "    # Predict the values using the regression line equation: y = mx + c\n",
    "    return m * x + c\n",
    "    #pass\n",
    "\n",
    "def score(y_truth, y_pred):\n",
    "    ## Write code for score function\n",
    "    # Calculate the R-squared score\n",
    "    mean_y = np.mean(y_truth)\n",
    "    ss_total = np.sum((y_truth - mean_y) ** 2)\n",
    "    ss_residual = np.sum((y_truth - y_pred) ** 2)\n",
    "    \n",
    "    r_squared = 1 - (ss_residual / ss_total)\n",
    "    return r_squared\n",
    "    #pass\n",
    "\n",
    "\n",
    "def cost(x, y, m, c):\n",
    "    ## Write code for cost function\n",
    "    # Calculate the mean squared error\n",
    "    y_pred = predict(x, m, c)\n",
    "    mse = np.mean((y - y_pred) ** 2)\n",
    "    return mse\n",
    "    #pass\n",
    "\n",
    "\n",
    "###########################\n",
    "###########################\n",
    "\n",
    "m, c = fit(X_train, Y_train)\n",
    "\n",
    "y_test_pred = predict(X_test, m, c)\n",
    "y_train_pred = predict(X_train, m, c)\n",
    "\n",
    "print(round(score(Y_test, y_test_pred), 2))\n",
    "print(round(score(Y_train, y_train_pred), 2))\n",
    "print(round(cost(X_train,Y_train, m, c ), 2))"
   ]
  },
  {
   "cell_type": "markdown",
   "id": "3d24f4f2",
   "metadata": {},
   "source": [
    "# V-7 Linear Regression from Scratch"
   ]
  },
  {
   "cell_type": "code",
   "execution_count": 115,
   "id": "eeaab0f0",
   "metadata": {},
   "outputs": [],
   "source": [
    "import numpy as np"
   ]
  },
  {
   "cell_type": "code",
   "execution_count": 116,
   "id": "62a98a3d",
   "metadata": {},
   "outputs": [],
   "source": [
    "data = np.loadtxt('data.csv', delimiter = \",\")"
   ]
  },
  {
   "cell_type": "code",
   "execution_count": 117,
   "id": "8bd868f2",
   "metadata": {},
   "outputs": [],
   "source": [
    "x = data[:,0]\n",
    "y = data[:,1]"
   ]
  },
  {
   "cell_type": "code",
   "execution_count": 118,
   "id": "3a087c6d",
   "metadata": {},
   "outputs": [
    {
     "data": {
      "text/plain": [
       "((100,), (100,))"
      ]
     },
     "execution_count": 118,
     "metadata": {},
     "output_type": "execute_result"
    }
   ],
   "source": [
    "x.shape, y.shape"
   ]
  },
  {
   "cell_type": "code",
   "execution_count": 119,
   "id": "1b2b14c1",
   "metadata": {},
   "outputs": [],
   "source": [
    "from sklearn import model_selection\n",
    "x_train, x_test, y_train, y_test = model_selection.train_test_split(x,y, test_size = 0.3)"
   ]
  },
  {
   "cell_type": "code",
   "execution_count": 120,
   "id": "20e8290b",
   "metadata": {},
   "outputs": [
    {
     "data": {
      "text/plain": [
       "(70,)"
      ]
     },
     "execution_count": 120,
     "metadata": {},
     "output_type": "execute_result"
    }
   ],
   "source": [
    "x_train.shape"
   ]
  },
  {
   "cell_type": "code",
   "execution_count": 128,
   "id": "ac8b7534",
   "metadata": {},
   "outputs": [],
   "source": [
    "def fit(x_train, y_train):\n",
    "    num = (x_train * y_train).mean() - x_train.mean() * y_train.mean()\n",
    "    den = (x_train**2).mean() - x_train.mean()**2\n",
    "    m = num/den\n",
    "    c = y_train.mean() - m * x_train.mean()\n",
    "    return m, c   "
   ]
  },
  {
   "cell_type": "code",
   "execution_count": 129,
   "id": "9843b301",
   "metadata": {},
   "outputs": [],
   "source": [
    "def predict(x, m, c):\n",
    "    return m * x + c #this will do element wise\n"
   ]
  },
  {
   "cell_type": "code",
   "execution_count": null,
   "id": "ed5c12fd",
   "metadata": {},
   "outputs": [],
   "source": [
    "def cost (x, y, m, c):\n",
    "    return ((y - m * x -c)**2).mean()"
   ]
  },
  {
   "cell_type": "code",
   "execution_count": 137,
   "id": "8273f55f",
   "metadata": {},
   "outputs": [
    {
     "name": "stdout",
     "output_type": "stream",
     "text": [
      "Test Score:  0.6219516207878915\n",
      "Train Score:  0.5887564794038945\n",
      "M, C 1.3662981847418731 6.298666187445463\n",
      "Cost on training data:  123.13585628777287\n"
     ]
    }
   ],
   "source": [
    "m, c = fit(x_train, y_train)\n",
    "# test data\n",
    "y_test_pred = predict(x_test, m , c)\n",
    "print(\"Test Score: \", score(y_test, y_test_pred))\n",
    "\n",
    "#train data\n",
    "y_train_pred = predict(x_train, m, c)\n",
    "print(\"Train Score: \",score(y_train, y_train_pred))\n",
    "print(\"M, C\", m, c)\n",
    "print(\"Cost on training data: \", cost(x_train, y_train, m, c))"
   ]
  },
  {
   "cell_type": "code",
   "execution_count": null,
   "id": "d541cf71",
   "metadata": {},
   "outputs": [],
   "source": []
  }
 ],
 "metadata": {
  "kernelspec": {
   "display_name": "Python 3 (ipykernel)",
   "language": "python",
   "name": "python3"
  },
  "language_info": {
   "codemirror_mode": {
    "name": "ipython",
    "version": 3
   },
   "file_extension": ".py",
   "mimetype": "text/x-python",
   "name": "python",
   "nbconvert_exporter": "python",
   "pygments_lexer": "ipython3",
   "version": "3.9.12"
  }
 },
 "nbformat": 4,
 "nbformat_minor": 5
}
