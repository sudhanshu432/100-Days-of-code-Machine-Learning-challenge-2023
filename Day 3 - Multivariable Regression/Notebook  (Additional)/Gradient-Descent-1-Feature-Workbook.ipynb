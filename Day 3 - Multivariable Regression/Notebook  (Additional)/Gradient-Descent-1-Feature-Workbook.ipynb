{
 "cells": [
  {
   "cell_type": "code",
   "execution_count": 22,
   "metadata": {},
   "outputs": [],
   "source": [
    "import numpy as np\n",
    "import matplotlib.pyplot as plt"
   ]
  },
  {
   "cell_type": "code",
   "execution_count": 2,
   "metadata": {},
   "outputs": [],
   "source": [
    "data = np.loadtxt(\"dummy_data.csv\",delimiter=\",\")"
   ]
  },
  {
   "cell_type": "code",
   "execution_count": 3,
   "metadata": {},
   "outputs": [],
   "source": [
    "X = data[:,0]\n",
    "Y = data[:,1]"
   ]
  },
  {
   "cell_type": "code",
   "execution_count": 4,
   "metadata": {},
   "outputs": [
    {
     "data": {
      "text/plain": [
       "100"
      ]
     },
     "execution_count": 4,
     "metadata": {},
     "output_type": "execute_result"
    }
   ],
   "source": [
    "X.shape[0]"
   ]
  },
  {
   "cell_type": "markdown",
   "metadata": {},
   "source": [
    "2/N factor can be employed outside loop as well. But using it inside the loop with each term allows for prevention of overflow"
   ]
  },
  {
   "cell_type": "code",
   "execution_count": 5,
   "metadata": {},
   "outputs": [],
   "source": [
    "def step_gradient(X_train,Y_train,lr,m,c):\n",
    "    \n",
    "    m_slope = 0\n",
    "    c_slope = 0\n",
    "    N = X_train.shape[0]\n",
    "    for i in range(N):\n",
    "        m_slope+=(2/N)*(Y_train[i] - m*X_train[i] - c) * (-X_train[i])\n",
    "        c_slope+=(2/N)*(Y_train[i] - m*X_train[i] - c) * (-1)\n",
    "    m = m - lr * m_slope\n",
    "    c = c - lr * c_slope\n",
    "    \n",
    "    return m,c"
   ]
  },
  {
   "cell_type": "markdown",
   "metadata": {},
   "source": [
    "### Adaptive Learning Rate\n",
    "\n",
    "The fit function below tunes the learning rate every decay_point, and itself gets tuned by being multiplied to a decay_factor.\n",
    "\n",
    "### Verbose\n",
    "\n",
    "Verbose parameter is provided to give the user option to print the cost after every 10 epochs to visualise the learning process. If False, then the fit function works without needing to print the cost every 10 epochs."
   ]
  },
  {
   "cell_type": "code",
   "execution_count": 18,
   "metadata": {},
   "outputs": [],
   "source": [
    "def fit(X_train,Y_train,lr=0.0001,epochs=100,decay_point=1000,decay_factor=5,verbose=False):\n",
    "    m = 0\n",
    "    c = 0 \n",
    "    error_array = []\n",
    "    for i in range(epochs):\n",
    "        m,c = step_gradient(X_train,Y_train,lr,m,c)\n",
    "        error_array.append(cost(X_train,m,c,Y_train))\n",
    "        if verbose and (epochs%10==0):\n",
    "            print(cost(X_train,m,c,Y_train))\n",
    "        if i%decay_point==0:\n",
    "            lr/=10\n",
    "            decay_point*=decay_factor\n",
    "    error = cost(X_train,m,c,Y_train)\n",
    "    return m,c,error,error_array"
   ]
  },
  {
   "cell_type": "code",
   "execution_count": 7,
   "metadata": {},
   "outputs": [],
   "source": [
    "def cost(X_train,m,c,Y_train):\n",
    "    cost_ = 0\n",
    "    for i in range(X_train.shape[0]):\n",
    "        cost_ += ((Y_train[i]-(X_train[i]*m+c))**2)/(X_train.shape[0])\n",
    "    return cost_"
   ]
  },
  {
   "cell_type": "code",
   "execution_count": 8,
   "metadata": {},
   "outputs": [],
   "source": [
    "def predict(X_train, m,c):\n",
    "    return X_train*m + c"
   ]
  },
  {
   "cell_type": "code",
   "execution_count": 9,
   "metadata": {},
   "outputs": [],
   "source": [
    "def score(Y_true,Y_pred):\n",
    "    u = ((Y_true-Y_pred)**2).sum()\n",
    "    v = ((Y_true-Y_true.mean())**2).sum()\n",
    "    \n",
    "    return 1-(u/v)"
   ]
  },
  {
   "cell_type": "code",
   "execution_count": 19,
   "metadata": {},
   "outputs": [
    {
     "name": "stdout",
     "output_type": "stream",
     "text": [
      "m: 1.3970983762070743 c: 4.192063416774396 error: 110.80224197696533\n"
     ]
    }
   ],
   "source": [
    "m,c,error,error_array = fit(X,Y,0.0035,100000,decay_factor=20)\n",
    "print(\"m:\",m,\"c:\",c,\"error:\",error)"
   ]
  },
  {
   "cell_type": "code",
   "execution_count": 20,
   "metadata": {},
   "outputs": [],
   "source": [
    "y_pred = predict(X,m,c)"
   ]
  },
  {
   "cell_type": "code",
   "execution_count": 21,
   "metadata": {},
   "outputs": [
    {
     "name": "stdout",
     "output_type": "stream",
     "text": [
      "0.596672470323822\n"
     ]
    }
   ],
   "source": [
    "print(score(Y,y_pred))"
   ]
  },
  {
   "cell_type": "code",
   "execution_count": 40,
   "metadata": {},
   "outputs": [
    {
     "data": {
      "image/png": "[encoded data removed]",
      "text/plain": [
       "<Figure size 432x288 with 1 Axes>"
      ]
     },
     "metadata": {
      "needs_background": "light"
     },
     "output_type": "display_data"
    }
   ],
   "source": [
    "plt.plot(error_array)\n",
    "plt.xlabel(\"epochs\")\n",
    "plt.ylabel(\"cost\")\n",
    "plt.title(\"Learning Process\")\n",
    "plt.axis([0,100,0,80000])\n",
    "plt.grid()\n",
    "plt.savefig(\"1-Feature-Gradient-Descent-Learning-Process.png\")\n",
    "plt.show()"
   ]
  },
  {
   "cell_type": "code",
   "execution_count": 13,
   "metadata": {},
   "outputs": [],
   "source": [
    "from sklearn.linear_model import LinearRegression"
   ]
  },
  {
   "cell_type": "code",
   "execution_count": 14,
   "metadata": {},
   "outputs": [],
   "source": [
    "alg = LinearRegression()"
   ]
  },
  {
   "cell_type": "code",
   "execution_count": 15,
   "metadata": {},
   "outputs": [],
   "source": [
    "X_ = X.reshape(-1,1)"
   ]
  },
  {
   "cell_type": "code",
   "execution_count": 16,
   "metadata": {},
   "outputs": [
    {
     "data": {
      "text/plain": [
       "LinearRegression(copy_X=True, fit_intercept=True, n_jobs=None,\n",
       "         normalize=False)"
      ]
     },
     "execution_count": 16,
     "metadata": {},
     "output_type": "execute_result"
    }
   ],
   "source": [
    "alg.fit(X_,Y)"
   ]
  },
  {
   "cell_type": "code",
   "execution_count": 17,
   "metadata": {},
   "outputs": [
    {
     "data": {
      "text/plain": [
       "0.5986557915386621"
      ]
     },
     "execution_count": 17,
     "metadata": {},
     "output_type": "execute_result"
    }
   ],
   "source": [
    "alg.score(X_,Y)"
   ]
  }
 ],
 "metadata": {
  "kernelspec": {
   "display_name": "Python 3",
   "language": "python",
   "name": "python3"
  },
  "language_info": {
   "codemirror_mode": {
    "name": "ipython",
    "version": 3
   },
   "file_extension": ".py",
   "mimetype": "text/x-python",
   "name": "python",
   "nbconvert_exporter": "python",
   "pygments_lexer": "ipython3",
   "version": "3.6.8"
  }
 },
 "nbformat": 4,
 "nbformat_minor": 2
}
